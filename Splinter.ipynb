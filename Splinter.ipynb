{
 "cells": [
  {
   "cell_type": "code",
   "execution_count": null,
   "id": "1d1cd9a5-26f7-4e0e-8bcf-c849f293116b",
   "metadata": {},
   "outputs": [],
   "source": [
    "from splinter.driver.webdriver.chrome import WebDriver as ChromeWebDriver\n",
    "browser = ChromeWebDriver()"
   ]
  },
  {
   "cell_type": "code",
   "execution_count": null,
   "id": "6f88965d-da53-4e43-bed0-253c9173d6f1",
   "metadata": {},
   "outputs": [],
   "source": [
    "chrome_path = '/opt/homebrew/bin/chromedriver'  # or the path from `which chromedriver`\n",
    "browser = Browser('chrome', executable_path=chrome_path)"
   ]
  }
 ],
 "metadata": {
  "kernelspec": {
   "display_name": "Python 3 (ipykernel)",
   "language": "python",
   "name": "python3"
  },
  "language_info": {
   "codemirror_mode": {
    "name": "ipython",
    "version": 3
   },
   "file_extension": ".py",
   "mimetype": "text/x-python",
   "name": "python",
   "nbconvert_exporter": "python",
   "pygments_lexer": "ipython3",
   "version": "3.11.8"
  }
 },
 "nbformat": 4,
 "nbformat_minor": 5
}
